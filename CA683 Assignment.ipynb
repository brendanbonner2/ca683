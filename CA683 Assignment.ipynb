{
 "cells": [
  {
   "cell_type": "markdown",
   "metadata": {},
   "source": [
    "# CA683 Data Anaytics Assignment\n",
    "\n",
    "This project is to develop a report that examines the use, implementation and evaluation of a number of DM/DA techniques on the dataset of your choosing. The overarching focus of the project is to produce a critical analysis of the chosen techniques to answer a *small scale* research question.\n",
    "\n",
    "In this assignment, I will be following the KDD (equivilant to SEMMA) methodology as the two phases in CRISP-DM for business understanding and deployment will not be required pre- and post KDD to develop a business understanding, and deployment strategy.\n"
   ]
  },
  {
   "cell_type": "markdown",
   "metadata": {},
   "source": [
    "# Project Definition and Data Choice"
   ]
  },
  {
   "cell_type": "markdown",
   "metadata": {},
   "source": [
    "## Selection ##\n"
   ]
  },
  {
   "cell_type": "markdown",
   "metadata": {},
   "source": [
    "## Pre processing ##"
   ]
  },
  {
   "cell_type": "code",
   "execution_count": null,
   "metadata": {},
   "outputs": [],
   "source": [
    "## Transformation ##"
   ]
  },
  {
   "cell_type": "markdown",
   "metadata": {},
   "source": [
    "## Data mining ##"
   ]
  },
  {
   "cell_type": "markdown",
   "metadata": {},
   "source": [
    "## Interpretation/Evaluation ##"
   ]
  },
  {
   "cell_type": "markdown",
   "metadata": {},
   "source": [
    "# Conclusions #"
   ]
  },
  {
   "cell_type": "markdown",
   "metadata": {},
   "source": [
    "# References #\n",
    "\n",
    "- Demissie, M.G., Phithakkitnukoon, S., Kattan, L., Farhan, A., 2019. Understanding Human Mobility Patterns in a Developing Country Using Mobile Phone Data. Data Science Journal 18, 1. https://doi.org/10.5334/dsj-2019-001\n",
    "- Kung, K.S., Greco, K., Sobolevsky, S., Ratti, C., 2014. Exploring Universal Patterns in Human Home-Work Commuting from Mobile Phone Data. PLoS ONE 9, e96180. https://doi.org/10.1371/journal.pone.0096180\n",
    "- Montanari, A., 2005. Human mobility, global change and local development: Contribution to the Italian PRIN 2002, Research Programme on “Tourism and development: local peculiarity and territorial competitivity.” belgeo 7–18. https://doi.org/10.4000/belgeo.12391\n",
    "- Pei, S., Cane, M.A., Shaman, J., 2019. Predictability in process-based ensemble forecast of influenza. PLoS Comput Biol 15, e1006783. https://doi.org/10.1371/journal.pcbi.1006783\n",
    "University), M., Maya (Stanford, 2015. Worldwide Human Influenza A (H5N1) Cases. https://doi.org/10.7910/DVN/ACTYA7\n",
    "- Yadav, K., Kumar, A., Bharati, A., Naik, V., 2014. Characterizing mobility patterns of people in developing countries using their mobile phone data, in: 2014 Sixth International Conference on Communication Systems and Networks (COMSNETS). Presented at the 2014 Sixth International Conference on Communication Systems and Networks (COMSNETS), IEEE, Bangalore, India, pp. 1–8. https://doi.org/10.1109/COMSNETS.2014.6734892\n",
    "- Yashima, K., Sasaki, A., 2014. Epidemic Process over the Commute Network in a Metropolitan Area. PLoS ONE 9, e98518. https://doi.org/10.1371/journal.pone.0098518\n"
   ]
  }
 ],
 "metadata": {
  "kernelspec": {
   "display_name": "Python 3.7.6 64-bit ('3.7.6': pyenv)",
   "language": "python",
   "name": "python37664bit376pyenvc17a82be230d48529dd331d2686f622b"
  },
  "language_info": {
   "codemirror_mode": {
    "name": "ipython",
    "version": 3
   },
   "file_extension": ".py",
   "mimetype": "text/x-python",
   "name": "python",
   "nbconvert_exporter": "python",
   "pygments_lexer": "ipython3",
   "version": "3.7.6"
  }
 },
 "nbformat": 4,
 "nbformat_minor": 4
}