{
 "cells": [
  {
   "cell_type": "markdown",
   "metadata": {},
   "source": [
    "# CA683 Data Anaytics Assignment\n",
    "\n",
    "This project is to develop a report that examines the use, implementation and evaluation of a number of DM/DA techniques on the dataset of your choosing. The overarching focus of the project is to produce a critical analysis of the chosen techniques to answer a *small scale* research question.\n",
    "\n",
    "In this assignment, I will be following the KDD; equivilant to SEMMA (Azevedo, 2008) methodology as the two phases in CRISP-DM for business understanding and deployment will not be required pre- and post KDD to develop a business understanding, and deployment strategy.\n"
   ]
  },
  {
   "cell_type": "markdown",
   "metadata": {},
   "source": [
    "## Project Definition and Data Choice\n",
    "\n",
    "This data mining project will be based on an assessment if we can predict infection and death rates of the Influenza virus (type B) alongside patterns in human behaviour, principally in relation to human mobility.\n",
    "\n",
    "As humanity has advanced technologically, Are there features in the data showing a correlation between changes in common population mobility (introduction of mass and personal transport), that have changed the average weekly distance covered by individuals over the course of the last 20 years, to the basic reproduction rate (R0) of Human Influenza Type B\n",
    "\n",
    "### Influenza Data Sources\n",
    "The data choice for influeza patterns is primarily from the WHO FluNet/FluInt datasets which are compiled by individual countries and aggregated by geographical region, as each region has it's own seasonal peaks. A preferred target for the data is to see if the R0 (R-Naught) of a particular strain of Influenza, where the current rate is mean R0 1.3: range 0.9 to 2.1 (Coburn et al., 2009)\n",
    "\n",
    "### Human Mobility Sources\n",
    "In terms of human mobility, a number of options were assessed with a criteria that it must be over at least a decade to identify patterns, and there are features that can be used. The initial source of this data was based on a radio discussion in March 2020 that referred to the average person travelling 2km per day in the 1900s, compared to 10km today, but the caller in this case was anonymous, and no data was found to support this claim locally or globally.\n",
    "\n",
    "To counter this, we will examined a number of methods of determining how far the average human travels each day per country or region. Direct commute times are limited in their range, such as the the addition of commute times in the Censure of Ireland (CSO, 2016), which show no significant individual change in overall commute times (~26 minutes) while focused on one urban area. Another source of data is the Mobile Phone data, which has a number of pools from both vendors and data aggregation sources, have been shown to be inconsistent to identify mobility patterns that are comparable globally, and exhibit missing pattern data (Li et al., 2019)"
   ]
  },
  {
   "cell_type": "markdown",
   "metadata": {},
   "source": [
    "### Selection\n"
   ]
  },
  {
   "cell_type": "markdown",
   "metadata": {},
   "source": [
    "### Pre processing"
   ]
  },
  {
   "cell_type": "markdown",
   "metadata": {},
   "source": [
    "### Transformation"
   ]
  },
  {
   "cell_type": "markdown",
   "metadata": {},
   "source": [
    "### Data mining"
   ]
  },
  {
   "cell_type": "markdown",
   "metadata": {},
   "source": [
    "### Interpretation/Evaluation"
   ]
  },
  {
   "cell_type": "markdown",
   "metadata": {},
   "source": [
    "# Conclusions #"
   ]
  },
  {
   "cell_type": "markdown",
   "metadata": {},
   "source": [
    "# References #\n",
    "\n",
    "- Azevedo, Ana and Manuel Filipe dos Santos. “KDD, SEMMA and CRISP-DM: a parallel overview.” IADIS European Conf. Data Mining (2008).\n",
    "- Coburn, B.J., Wagner, B.G., Blower, S., 2009. Modeling influenza epidemics and pandemics: insights into the future of swine flu (H1N1). BMC Med 7, 30. https://doi.org/10.1186/1741-7015-7-30\n",
    "- CSO, Accessed: 13/04/2020, Census of Population 2016 – Profile 6 Commuting in Ireland [WWW Document]. URL https://www.cso.ie/en/releasesandpublications/ep/p-cp6ci/p6cii/p6td/\n",
    "- Li, M., Gao, S., Lu, F., Zhang, H., 2019. Reconstruction of human movement trajectories from large-scale low-frequency mobile phone data. Computers, Environment and Urban Systems 77, 101346. https://doi.org/10.1016/j.compenvurbsys.2019.101346\n",
    "\n",
    "\n",
    "\n",
    "\n",
    "- Ferguson, N.M., Cummings, D.A.T., Fraser, C., Cajka, J.C., Cooley, P.C., Burke, D.S., 2006. Strategies for mitigating an influenza pandemic. Nature 442, 448–452. https://doi.org/10.1038/nature04795\n",
    "- Demissie, M.G., Phithakkitnukoon, S., Kattan, L., Farhan, A., 2019. Understanding Human Mobility Patterns in a Developing Country Using Mobile Phone Data. Data Science Journal 18, 1. https://doi.org/10.5334/dsj-2019-001\n",
    "- Kung, K.S., Greco, K., Sobolevsky, S., Ratti, C., 2014. Exploring Universal Patterns in Human Home-Work Commuting from Mobile Phone Data. PLoS ONE 9, e96180. https://doi.org/10.1371/journal.pone.0096180\n",
    "- Montanari, A., 2005. Human mobility, global change and local development: Contribution to the Italian PRIN 2002, Research Programme on “Tourism and development: local peculiarity and territorial competitivity.” belgeo 7–18. https://doi.org/10.4000/belgeo.12391\n",
    "- Pei, S., Cane, M.A., Shaman, J., 2019. Predictability in process-based ensemble forecast of influenza. PLoS Comput Biol 15, e1006783. https://doi.org/10.1371/journal.pcbi.1006783\n",
    "University), M., Maya (Stanford, 2015. Worldwide Human Influenza A (H5N1) Cases. https://doi.org/10.7910/DVN/ACTYA7\n",
    "- Yadav, K., Kumar, A., Bharati, A., Naik, V., 2014. Characterizing mobility patterns of people in developing countries using their mobile phone data, in: 2014 Sixth International Conference on Communication Systems and Networks (COMSNETS). Presented at the 2014 Sixth International Conference on Communication Systems and Networks (COMSNETS), IEEE, Bangalore, India, pp. 1–8. https://doi.org/10.1109/COMSNETS.2014.6734892\n",
    "- Yashima, K., Sasaki, A., 2014. Epidemic Process over the Commute Network in a Metropolitan Area. PLoS ONE 9, e98518. https://doi.org/10.1371/journal.pone.0098518\n"
   ]
  },
  {
   "cell_type": "code",
   "execution_count": null,
   "metadata": {},
   "outputs": [],
   "source": []
  },
  {
   "cell_type": "code",
   "execution_count": null,
   "metadata": {},
   "outputs": [],
   "source": []
  },
  {
   "cell_type": "code",
   "execution_count": null,
   "metadata": {},
   "outputs": [],
   "source": []
  }
 ],
 "metadata": {
  "kernelspec": {
   "display_name": "Python 3.7.6 64-bit ('3.7.6': pyenv)",
   "language": "python",
   "name": "python37664bit376pyenvc17a82be230d48529dd331d2686f622b"
  },
  "language_info": {
   "codemirror_mode": {
    "name": "ipython",
    "version": 3
   },
   "file_extension": ".py",
   "mimetype": "text/x-python",
   "name": "python",
   "nbconvert_exporter": "python",
   "pygments_lexer": "ipython3",
   "version": "3.7.6"
  }
 },
 "nbformat": 4,
 "nbformat_minor": 4
}